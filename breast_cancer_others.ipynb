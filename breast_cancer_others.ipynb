{
 "cells": [
  {
   "cell_type": "code",
   "execution_count": 1,
   "metadata": {},
   "outputs": [],
   "source": [
    "import numpy as np\n",
    "import matplotlib.pyplot as plt\n",
    "from sklearn.datasets import load_breast_cancer\n",
    "from sklearn.model_selection import train_test_split\n",
    "from sklearn.ensemble import RandomForestClassifier\n",
    "from sklearn.svm import SVC\n",
    "from sklearn.kernel_approximation import Nystroem\n",
    "from sklearn.pipeline import Pipeline\n",
    "from sklearn.metrics import accuracy_score, classification_report\n",
    "\n",
    "# Load the Breast Cancer dataset\n",
    "data = load_breast_cancer()\n",
    "X, y = data.data, data.target"
   ]
  },
  {
   "cell_type": "code",
   "execution_count": 2,
   "metadata": {},
   "outputs": [
    {
     "name": "stdout",
     "output_type": "stream",
     "text": [
      "Random Forest Accuracy: 0.9649122807017544\n",
      "              precision    recall  f1-score   support\n",
      "\n",
      "           0       0.98      0.93      0.95        43\n",
      "           1       0.96      0.99      0.97        71\n",
      "\n",
      "    accuracy                           0.96       114\n",
      "   macro avg       0.97      0.96      0.96       114\n",
      "weighted avg       0.97      0.96      0.96       114\n",
      "\n"
     ]
    }
   ],
   "source": [
    "# Split into train and test sets\n",
    "X_train, X_test, y_train, y_test = train_test_split(X, y, test_size=0.2, random_state=42)\n",
    "\n",
    "# Train a Random Forest Classifier\n",
    "rf = RandomForestClassifier(n_estimators=100, random_state=42)\n",
    "rf.fit(X_train, y_train)\n",
    "y_pred_rf = rf.predict(X_test)\n",
    "rf_acc = accuracy_score(y_test, y_pred_rf)\n",
    "print(\"Random Forest Accuracy:\", rf_acc)\n",
    "print(classification_report(y_test, y_pred_rf))"
   ]
  },
  {
   "cell_type": "code",
   "execution_count": 3,
   "metadata": {},
   "outputs": [
    {
     "name": "stdout",
     "output_type": "stream",
     "text": [
      "SVM with Nyström Kernel Accuracy: 0.6228070175438597\n",
      "              precision    recall  f1-score   support\n",
      "\n",
      "           0       0.00      0.00      0.00        43\n",
      "           1       0.62      1.00      0.77        71\n",
      "\n",
      "    accuracy                           0.62       114\n",
      "   macro avg       0.31      0.50      0.38       114\n",
      "weighted avg       0.39      0.62      0.48       114\n",
      "\n"
     ]
    },
    {
     "name": "stderr",
     "output_type": "stream",
     "text": [
      "c:\\Users\\Lenovo\\AppData\\Local\\Programs\\Python\\Python311\\Lib\\site-packages\\sklearn\\metrics\\_classification.py:1565: UndefinedMetricWarning: Precision is ill-defined and being set to 0.0 in labels with no predicted samples. Use `zero_division` parameter to control this behavior.\n",
      "  _warn_prf(average, modifier, f\"{metric.capitalize()} is\", len(result))\n",
      "c:\\Users\\Lenovo\\AppData\\Local\\Programs\\Python\\Python311\\Lib\\site-packages\\sklearn\\metrics\\_classification.py:1565: UndefinedMetricWarning: Precision is ill-defined and being set to 0.0 in labels with no predicted samples. Use `zero_division` parameter to control this behavior.\n",
      "  _warn_prf(average, modifier, f\"{metric.capitalize()} is\", len(result))\n",
      "c:\\Users\\Lenovo\\AppData\\Local\\Programs\\Python\\Python311\\Lib\\site-packages\\sklearn\\metrics\\_classification.py:1565: UndefinedMetricWarning: Precision is ill-defined and being set to 0.0 in labels with no predicted samples. Use `zero_division` parameter to control this behavior.\n",
      "  _warn_prf(average, modifier, f\"{metric.capitalize()} is\", len(result))\n"
     ]
    }
   ],
   "source": [
    "# Apply Nyström method to approximate the RBF kernel\n",
    "nystroem = Nystroem(kernel='rbf', gamma=0.1, n_components=300, random_state=42)\n",
    "svm = SVC(kernel='linear', random_state=42)\n",
    "\n",
    "# Create a pipeline for SVM with the Nyström method\n",
    "svm_nystroem = Pipeline([\n",
    "    ('feature_map', nystroem),\n",
    "    ('svm', svm)\n",
    "])\n",
    "\n",
    "# Train the SVM with Nyström approximation\n",
    "svm_nystroem.fit(X_train, y_train)\n",
    "y_pred_svm = svm_nystroem.predict(X_test)\n",
    "svm_acc = accuracy_score(y_test, y_pred_svm)\n",
    "print(\"SVM with Nyström Kernel Accuracy:\", svm_acc)\n",
    "print(classification_report(y_test, y_pred_svm))\n"
   ]
  },
  {
   "cell_type": "code",
   "execution_count": 5,
   "metadata": {},
   "outputs": [],
   "source": [
    "from qiskit import QuantumCircuit, QuantumRegister, ClassicalRegister, transpile\n",
    "from qiskit_aer import Aer\n",
    "from qiskit.circuit.library import ZZFeatureMap\n",
    "from qiskit_machine_learning.algorithms import QSVC"
   ]
  },
  {
   "cell_type": "code",
   "execution_count": 6,
   "metadata": {},
   "outputs": [],
   "source": [
    "def quantum_feature_map(x):\n",
    "    n_qubits = len(x)\n",
    "    qc = QuantumCircuit(n_qubits)\n",
    "    for i, xi in enumerate(x):\n",
    "        qc.ry(xi, i)\n",
    "    qc.barrier()\n",
    "    for i in range(n_qubits):\n",
    "        for j in range(i+1, n_qubits):\n",
    "            qc.cx(i, j)\n",
    "            qc.rz(x[i] * x[j], j)\n",
    "            qc.cx(i, j)\n",
    "    return qc\n",
    "\n",
    "class QuantumDecisionTreeNode:\n",
    "    def __init__(self, depth=0, max_depth=3):\n",
    "        self.left = None\n",
    "        self.right = None\n",
    "        self.feature = None\n",
    "        self.threshold = None\n",
    "        self.depth = depth\n",
    "        self.max_depth = max_depth\n",
    "        self.leaf_value = None\n",
    "\n",
    "    def fit(self, X, y):\n",
    "        if self.depth == self.max_depth or len(np.unique(y)) == 1:\n",
    "            self.leaf_value = np.argmax(np.bincount(y))\n",
    "            return\n",
    "\n",
    "        n_features = X.shape[1]\n",
    "        best_gini = float('inf')\n",
    "        best_feature = None\n",
    "        best_threshold = None\n",
    "\n",
    "        for feature in range(n_features):\n",
    "            thresholds = np.unique(X[:, feature])\n",
    "            for threshold in thresholds:\n",
    "                left_mask = X[:, feature] <= threshold\n",
    "                right_mask = ~left_mask\n",
    "                gini = self.gini_impurity(y[left_mask]) + self.gini_impurity(y[right_mask])\n",
    "                if gini < best_gini:\n",
    "                    best_gini = gini\n",
    "                    best_feature = feature\n",
    "                    best_threshold = threshold\n",
    "\n",
    "        self.feature = best_feature\n",
    "        self.threshold = best_threshold\n",
    "\n",
    "        left_mask = X[:, self.feature] <= self.threshold\n",
    "        right_mask = ~left_mask\n",
    "\n",
    "        self.left = QuantumDecisionTreeNode(depth=self.depth+1, max_depth=self.max_depth)\n",
    "        self.right = QuantumDecisionTreeNode(depth=self.depth+1, max_depth=self.max_depth)\n",
    "\n",
    "        self.left.fit(X[left_mask], y[left_mask])\n",
    "        self.right.fit(X[right_mask], y[right_mask])\n",
    "\n",
    "    def predict(self, x):\n",
    "        if self.leaf_value is not None:\n",
    "            return self.leaf_value\n",
    "\n",
    "        if x[self.feature] <= self.threshold:\n",
    "            return self.left.predict(x)\n",
    "        else:\n",
    "            return self.right.predict(x)\n",
    "\n",
    "    @staticmethod\n",
    "    def gini_impurity(y):\n",
    "        _, counts = np.unique(y, return_counts=True)\n",
    "        probabilities = counts / len(y)\n",
    "        return 1 - np.sum(probabilities**2)\n",
    "\n",
    "\n",
    "class QuantumDecisionTree:\n",
    "    def __init__(self, max_depth=3):\n",
    "        self.root = QuantumDecisionTreeNode(max_depth=max_depth)\n",
    "\n",
    "    def fit(self, X, y):\n",
    "        quantum_X = np.array([self.quantum_feature_extraction(x) for x in X])\n",
    "        self.root.fit(quantum_X, y)\n",
    "\n",
    "    def predict(self, X):\n",
    "        return np.array([self.root.predict(self.quantum_feature_extraction(x)) for x in X])\n",
    "\n",
    "    @staticmethod\n",
    "    def quantum_feature_extraction(x):\n",
    "        qc = quantum_feature_map(x)\n",
    "        backend = Aer.get_backend('aer_simulator')\n",
    "        qc.save_statevector()\n",
    "        transpiled_circuit = transpile(qc, backend)\n",
    "        job = backend.run(transpiled_circuit)\n",
    "        result = job.result()\n",
    "        statevector = result.get_statevector()\n",
    "        return np.real(statevector)\n"
   ]
  },
  {
   "cell_type": "code",
   "execution_count": 9,
   "metadata": {},
   "outputs": [
    {
     "name": "stdout",
     "output_type": "stream",
     "text": [
      "Quantum Decision Tree Accuracy: 0.6403508771929824\n",
      "              precision    recall  f1-score   support\n",
      "\n",
      "           0       0.75      0.07      0.13        43\n",
      "           1       0.64      0.99      0.77        71\n",
      "\n",
      "    accuracy                           0.64       114\n",
      "   macro avg       0.69      0.53      0.45       114\n",
      "weighted avg       0.68      0.64      0.53       114\n",
      "\n"
     ]
    }
   ],
   "source": [
    "from sklearn.decomposition import PCA \n",
    "\n",
    "pca = PCA(n_components=5)\n",
    "X_train_reduced = pca.fit_transform(X_train)\n",
    "X_test_reduced = pca.transform(X_test)\n",
    "\n",
    "qdt = QuantumDecisionTree(max_depth=3)\n",
    "qdt.fit(X_train_reduced, y_train)\n",
    "y_pred_qdt = qdt.predict(X_test_reduced)\n",
    "qdt_acc = accuracy_score(y_test, y_pred_qdt)\n",
    "print(\"Quantum Decision Tree Accuracy:\", qdt_acc)\n",
    "print(classification_report(y_test, y_pred_qdt))\n"
   ]
  },
  {
   "cell_type": "code",
   "execution_count": 10,
   "metadata": {},
   "outputs": [
    {
     "name": "stdout",
     "output_type": "stream",
     "text": [
      "Circuit saved as 'quantum_circuit.png'\n"
     ]
    },
    {
     "data": {
      "image/png": "[encoded data removed]",
      "text/plain": [
       "<Figure size 640x480 with 1 Axes>"
      ]
     },
     "metadata": {},
     "output_type": "display_data"
    }
   ],
   "source": [
    "from qiskit.visualization import circuit_drawer\n",
    "\n",
    "def save_quantum_circuit(x, filename='quantum_circuit.png'):\n",
    "    qc = quantum_feature_map(x)\n",
    "    fig = circuit_drawer(qc, output='mpl')\n",
    "    fig.savefig(filename)\n",
    "    print(f\"Circuit saved as '{filename}'\")\n",
    "\n",
    "sample_x = X_train[0]\n",
    "save_quantum_circuit(sample_x)\n",
    "\n",
    "import matplotlib.pyplot as plt\n",
    "import cv2\n",
    "\n",
    "image_path = \"quantum_circuit.png\"\n",
    "image = cv2.imread(image_path)\n",
    "image = cv2.cvtColor(image, cv2.COLOR_BGR2RGB)\n",
    "\n",
    "plt.imshow(image)\n",
    "plt.axis(\"off\")\n",
    "plt.show()"
   ]
  }
 ],
 "metadata": {
  "kernelspec": {
   "display_name": "Python 3",
   "language": "python",
   "name": "python3"
  },
  "language_info": {
   "codemirror_mode": {
    "name": "ipython",
    "version": 3
   },
   "file_extension": ".py",
   "mimetype": "text/x-python",
   "name": "python",
   "nbconvert_exporter": "python",
   "pygments_lexer": "ipython3",
   "version": "3.11.7"
  }
 },
 "nbformat": 4,
 "nbformat_minor": 2
}
